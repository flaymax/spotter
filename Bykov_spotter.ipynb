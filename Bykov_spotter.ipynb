{
 "cells": [
  {
   "cell_type": "markdown",
   "id": "00f9aae1",
   "metadata": {
    "id": "00f9aae1"
   },
   "source": [
    "* [pytorch tutorials](https://pytorch.org/tutorials/)\n",
    "* [torchaudio](https://pytorch.org/audio/stable/index.html)"
   ]
  },
  {
   "cell_type": "code",
   "execution_count": 1,
   "id": "6ec63b82",
   "metadata": {
    "colab": {
     "base_uri": "https://localhost:8080/",
     "height": 718
    },
    "id": "6ec63b82",
    "outputId": "f9532f50-ce4f-4bbb-a449-a3abedc3aef3",
    "scrolled": true
   },
   "outputs": [
    {
     "name": "stdout",
     "output_type": "stream",
     "text": [
      "Requirement already satisfied: torch==1.12.1 in /Users/flaymax/miniforge3/lib/python3.9/site-packages (1.12.1)\n",
      "Requirement already satisfied: typing-extensions in /Users/flaymax/miniforge3/lib/python3.9/site-packages (from torch==1.12.1) (4.3.0)\n",
      "Requirement already satisfied: torchaudio==0.12.1 in /Users/flaymax/miniforge3/lib/python3.9/site-packages (0.12.1)\n",
      "Requirement already satisfied: torch in /Users/flaymax/miniforge3/lib/python3.9/site-packages (from torchaudio==0.12.1) (1.12.1)\n",
      "Requirement already satisfied: typing-extensions in /Users/flaymax/miniforge3/lib/python3.9/site-packages (from torch->torchaudio==0.12.1) (4.3.0)\n",
      "Requirement already satisfied: omegaconf==2.2.3 in /Users/flaymax/miniforge3/lib/python3.9/site-packages (2.2.3)\n",
      "Requirement already satisfied: antlr4-python3-runtime==4.9.* in /Users/flaymax/miniforge3/lib/python3.9/site-packages (from omegaconf==2.2.3) (4.9.3)\n",
      "Requirement already satisfied: PyYAML>=5.1.0 in /Users/flaymax/miniforge3/lib/python3.9/site-packages (from omegaconf==2.2.3) (6.0)\n",
      "Collecting git+https://github.com/Lyken17/pytorch-OpCounter.git\n",
      "  Cloning https://github.com/Lyken17/pytorch-OpCounter.git to /private/var/folders/vc/ncyx6pz567x9w9jb_lsmyjgm0000gn/T/pip-req-build-aczprgjc\n",
      "  Running command git clone --filter=blob:none -q https://github.com/Lyken17/pytorch-OpCounter.git /private/var/folders/vc/ncyx6pz567x9w9jb_lsmyjgm0000gn/T/pip-req-build-aczprgjc\n",
      "  Resolved https://github.com/Lyken17/pytorch-OpCounter.git to commit 43c064afb71383501e41eaef9e8c8407265cf77f\n",
      "  Preparing metadata (setup.py) ... \u001b[?25ldone\n",
      "\u001b[?25hRequirement already satisfied: torch in /Users/flaymax/miniforge3/lib/python3.9/site-packages (from thop==0.1.1-2212161214) (1.12.1)\n",
      "Requirement already satisfied: typing-extensions in /Users/flaymax/miniforge3/lib/python3.9/site-packages (from torch->thop==0.1.1-2212161214) (4.3.0)\n",
      "Building wheels for collected packages: thop\n",
      "  Building wheel for thop (setup.py) ... \u001b[?25ldone\n",
      "\u001b[?25h  Created wheel for thop: filename=thop-0.1.1.post2212161214-py3-none-any.whl size=15465 sha256=41cfdc013e9f3da5356170392e60bffd47813d951cd267601b861a4b0c8babe2\n",
      "  Stored in directory: /private/var/folders/vc/ncyx6pz567x9w9jb_lsmyjgm0000gn/T/pip-ephem-wheel-cache-uqvw4d61/wheels/a3/0f/f1/a1ae62b0001ebe2151f896da752b9fb5198bf3b5427603de0e\n",
      "Successfully built thop\n",
      "Installing collected packages: thop\n",
      "  Attempting uninstall: thop\n",
      "    Found existing installation: thop 0.1.1.post2212161208\n",
      "    Uninstalling thop-0.1.1.post2212161208:\n",
      "      Successfully uninstalled thop-0.1.1.post2212161208\n",
      "Successfully installed thop-0.1.1.post2212161214\n"
     ]
    }
   ],
   "source": [
    "# %%bash\n",
    "!pip install torch==1.12.1\n",
    "!pip install torchaudio==0.12.1\n",
    "!pip install omegaconf==2.2.3\n",
    "!pip install --upgrade git+https://github.com/Lyken17/pytorch-OpCounter.git\n",
    "\n",
    "# mkdir ./data\n",
    "# wget -q https://raw.githubusercontent.com/karpnv/speech-tech-mipt/week5/week05/data/8b427e83c196b517cd240822a18ba698.wav -P ./data"
   ]
  },
  {
   "cell_type": "code",
   "execution_count": 1,
   "id": "05692380",
   "metadata": {
    "id": "05692380"
   },
   "outputs": [],
   "source": [
    "import random\n",
    "import logging\n",
    "from dataclasses import dataclass\n",
    "from datetime import datetime\n",
    "from pathlib import Path\n",
    "from typing import Optional, Callable, Dict, List, Any, Tuple\n",
    "\n",
    "import omegaconf\n",
    "import torch\n",
    "from torch.utils.tensorboard import SummaryWriter\n",
    "import torchaudio\n",
    "import thop\n",
    "import pandas as pd\n",
    "import numpy as np\n",
    "import matplotlib.pyplot as plt\n",
    "plt.style.use('ggplot')\n",
    "\n",
    "import IPython.display as ipd\n",
    "\n",
    "logging.basicConfig(\n",
    "    format='%(asctime)s - %(name)s - %(levelname)s - %(message)s', level=logging.INFO\n",
    ")\n",
    "logger = logging.getLogger('Training process')"
   ]
  },
  {
   "cell_type": "code",
   "execution_count": 2,
   "id": "d9788e02",
   "metadata": {
    "colab": {
     "base_uri": "https://localhost:8080/"
    },
    "id": "d9788e02",
    "outputId": "fd7a7217-789c-4105-fb2b-e0048e720c89"
   },
   "outputs": [
    {
     "data": {
      "text/plain": [
       "<torch._C.Generator at 0x1065966d0>"
      ]
     },
     "execution_count": 2,
     "metadata": {},
     "output_type": "execute_result"
    }
   ],
   "source": [
    "SEED = 777\n",
    "\n",
    "random.seed(SEED)\n",
    "np.random.seed(SEED)\n",
    "torch.manual_seed(SEED)"
   ]
  },
  {
   "cell_type": "code",
   "execution_count": 3,
   "id": "c2adece1",
   "metadata": {
    "id": "c2adece1"
   },
   "outputs": [],
   "source": [
    "@dataclass\n",
    "class Model:\n",
    "    kernels: Tuple[int]\n",
    "    strides: Tuple[int]\n",
    "    channels: Tuple[int]\n",
    "    hidden_size: int\n",
    "    activation: str\n",
    "\n",
    "@dataclass\n",
    "class Optim:\n",
    "    lr: float\n",
    "    n_epochs: int\n",
    "    batch_size: int\n",
    "        \n",
    "@dataclass\n",
    "class Features:\n",
    "    n_fft: int\n",
    "    win_length: int\n",
    "    hop_length: int\n",
    "    n_mels: int\n",
    "\n",
    "@dataclass\n",
    "class Augmentations:\n",
    "    freq_mask_param: int\n",
    "    time_mask_param: int"
   ]
  },
  {
   "cell_type": "code",
   "execution_count": 4,
   "id": "0644c725",
   "metadata": {
    "id": "0644c725"
   },
   "outputs": [],
   "source": [
    "@dataclass\n",
    "class ExpConfig:\n",
    "    sample_rate: int = 16_000\n",
    "    val_fraction: float = 0.1\n",
    "    idx_to_keyword: List[str] = ('sber', 'joy', 'afina', 'salut', 'filler')\n",
    "    device: str = 'cuda:0' if torch.cuda.is_available() else 'cpu'\n",
    "    \n",
    "    model: Model = Model(\n",
    "        kernels=(3, 3), strides=(2, 2), channels=(32, 32), hidden_size=16, activation='ReLU'\n",
    "    )\n",
    "    optim: Optim = Optim(\n",
    "        lr=1e-3, n_epochs=10, batch_size=64\n",
    "    )\n",
    "    features: Features = Features(\n",
    "        n_fft=400, win_length=400, hop_length=160, n_mels=64\n",
    "    )\n",
    "    augs: Augmentations = Augmentations(\n",
    "        freq_mask_param=0, time_mask_param=0\n",
    "    )"
   ]
  },
  {
   "cell_type": "code",
   "execution_count": 5,
   "id": "02a978b3",
   "metadata": {
    "id": "02a978b3"
   },
   "outputs": [],
   "source": [
    "conf = omegaconf.OmegaConf.structured(ExpConfig)"
   ]
  },
  {
   "cell_type": "markdown",
   "id": "df5486a0",
   "metadata": {
    "id": "df5486a0"
   },
   "source": [
    "# Data\n",
    "\n",
    "download from [kaggle](https://www.kaggle.com/t/830d20b353bd4e0d80630a97835f14a6)"
   ]
  },
  {
   "cell_type": "markdown",
   "id": "048915cb",
   "metadata": {
    "id": "048915cb"
   },
   "source": [
    "# Dataset"
   ]
  },
  {
   "cell_type": "code",
   "execution_count": 6,
   "id": "785ee952",
   "metadata": {
    "id": "785ee952"
   },
   "outputs": [],
   "source": [
    "class SpecScaler(torch.nn.Module):\n",
    "    def forward(self, x):\n",
    "        return torch.log(x.clamp_(1e-9, 1e9))"
   ]
  },
  {
   "cell_type": "code",
   "execution_count": 7,
   "id": "320ee337",
   "metadata": {
    "id": "320ee337"
   },
   "outputs": [],
   "source": [
    "class SpotterDataset(torch.utils.data.Dataset):\n",
    "    \n",
    "    def __init__(\n",
    "            self, manifest_path: Path, idx_to_keyword: List[str],\n",
    "            transform, ids: Optional[List[int]] = None\n",
    "        ):\n",
    "        super().__init__()\n",
    "        \n",
    "        self.transform = transform\n",
    "        \n",
    "        manifest = pd.read_csv(manifest_path)\n",
    "        if ids is not None:\n",
    "            manifest = manifest.loc[ids]\n",
    "        self.wav_files = [\n",
    "            manifest_path.parent / wav_path for wav_path in manifest.path\n",
    "        ]\n",
    "        \n",
    "        keyword_to_idx = {\n",
    "            keyword: idx for idx, keyword in enumerate(idx_to_keyword)\n",
    "        }\n",
    "        self.labels = [\n",
    "            keyword_to_idx[keyword] for keyword in manifest.label\n",
    "        ]\n",
    "        \n",
    "    def __len__(self):\n",
    "        return len(self.wav_files)\n",
    "    \n",
    "    def __getitem__(self, idx):\n",
    "        wav, sr = torchaudio.load(self.wav_files[idx])\n",
    "        features = self.transform(wav)\n",
    "        return wav[0], features, self.labels[idx]"
   ]
  },
  {
   "cell_type": "code",
   "execution_count": 8,
   "id": "cd7d2950",
   "metadata": {
    "id": "cd7d2950"
   },
   "outputs": [],
   "source": [
    "dataset = SpotterDataset(\n",
    "    manifest_path=Path(\"train/train/manifest.csv\"),\n",
    "    idx_to_keyword=conf.idx_to_keyword,\n",
    "    transform=torch.nn.Sequential(\n",
    "        torchaudio.transforms.MelSpectrogram(sample_rate=conf.sample_rate, **conf.features),\n",
    "        torchaudio.transforms.FrequencyMasking(freq_mask_param=conf.augs.freq_mask_param),\n",
    "        torchaudio.transforms.TimeMasking(time_mask_param=conf.augs.time_mask_param),\n",
    "        SpecScaler()\n",
    "    )\n",
    ")"
   ]
  },
  {
   "cell_type": "code",
   "execution_count": 9,
   "id": "64843893",
   "metadata": {
    "colab": {
     "base_uri": "https://localhost:8080/",
     "height": 372
    },
    "id": "64843893",
    "outputId": "0baed31d-bec6-4985-8a85-e872fd716ac9"
   },
   "outputs": [
    {
     "data": {
      "text/html": [
       "\n",
       "                <audio  controls=\"controls\" >\n",
       "                    <source src=\"data:audio/wav;base64,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\" type=\"audio/wav\" />\n",
       "                    Your browser does not support the audio element.\n",
       "                </audio>\n",
       "              "
      ],
      "text/plain": [
       "<IPython.lib.display.Audio object>"
      ]
     },
     "metadata": {},
     "output_type": "display_data"
    },
    {
     "data": {
      "image/png": "[encoded data removed]",
      "text/plain": [
       "<Figure size 864x360 with 2 Axes>"
      ]
     },
     "metadata": {},
     "output_type": "display_data"
    }
   ],
   "source": [
    "wav, features, label = next(iter(dataset))\n",
    "\n",
    "ipd.display(ipd.Audio(wav, rate=conf.sample_rate))\n",
    "plt.figure(figsize=(12,5))\n",
    "plt.subplot(121)\n",
    "plt.title(conf.idx_to_keyword[label])\n",
    "plt.plot(wav)\n",
    "plt.subplot(122)\n",
    "plt.grid()\n",
    "plt.imshow(features[0])\n",
    "plt.show()"
   ]
  },
  {
   "cell_type": "code",
   "execution_count": 10,
   "id": "4a50bef0",
   "metadata": {
    "id": "4a50bef0"
   },
   "outputs": [],
   "source": [
    "def collator(data):\n",
    "    specs = []\n",
    "    labels = []\n",
    "\n",
    "    for wav, features, label in data:\n",
    "        specs.append(features)\n",
    "        labels.append(label)\n",
    "\n",
    "    specs = torch.cat(specs)  \n",
    "    labels = torch.Tensor(labels).long()\n",
    "    return specs, labels"
   ]
  },
  {
   "cell_type": "markdown",
   "id": "42ba9ba6",
   "metadata": {
    "id": "42ba9ba6"
   },
   "source": [
    "# Train Loop"
   ]
  },
  {
   "cell_type": "code",
   "execution_count": 11,
   "id": "c42954ac",
   "metadata": {
    "id": "c42954ac"
   },
   "outputs": [],
   "source": [
    "def train_one_epoch(model, criterion, optimizer, loader, device, epoch_index, tb_writer, log_interval=100):\n",
    "    \n",
    "    model.train()\n",
    "    \n",
    "    running_loss = 0.\n",
    "    running_true_preds, running_preds = 0, 0\n",
    "    last_loss, last_acc = 0., 0.\n",
    "\n",
    "    for i, (inputs, labels) in enumerate(loader):\n",
    "        \n",
    "        inputs, labels = inputs.to(device), labels.to(device)\n",
    "\n",
    "        optimizer.zero_grad()\n",
    "\n",
    "        logprobs = model(inputs)\n",
    "        preds = logprobs.argmax(1)\n",
    "        loss = criterion(logprobs, labels)\n",
    "        loss.backward()\n",
    "\n",
    "        optimizer.step()\n",
    "        \n",
    "        running_loss += loss.item()\n",
    "        running_true_preds += (preds == labels).sum()\n",
    "        running_preds += torch.numel(preds)\n",
    "        \n",
    "        if i % log_interval == log_interval - 1:\n",
    "            last_loss = running_loss / log_interval\n",
    "            last_acc = running_true_preds / running_preds \n",
    "            tb_x = epoch_index * len(loader) + i + 1\n",
    "            tb_writer.add_scalar('Loss/train', last_loss, tb_x)\n",
    "            tb_writer.add_scalar('Accuracy/train', last_acc, tb_x)\n",
    "            running_loss = 0.\n",
    "            running_true_preds, running_preds = 0, 0\n",
    "\n",
    "    return last_loss, last_acc\n",
    "\n",
    "\n",
    "@torch.no_grad()\n",
    "def validation(model, criterion, loader, device, epoch_index, tb_writer):\n",
    "    \n",
    "    model.eval()\n",
    "    \n",
    "    running_loss = 0.\n",
    "    running_true_preds, running_preds = 0, 0\n",
    "\n",
    "    for i, (inputs, labels) in enumerate(loader):\n",
    "        \n",
    "        inputs, labels = inputs.to(device), labels.to(device)\n",
    "        \n",
    "        logprobs = model(inputs)\n",
    "        preds = logprobs.argmax(1)\n",
    "        \n",
    "        running_loss += criterion(logprobs, labels).item()\n",
    "        running_true_preds += (preds == labels).sum()\n",
    "        running_preds += torch.numel(preds)\n",
    "        \n",
    "    loss = running_loss / len(loader)\n",
    "    acc = running_true_preds / running_preds \n",
    "    \n",
    "    tb_x = epoch_index + 1\n",
    "    tb_writer.add_scalar('Loss/val', loss, tb_x)\n",
    "    tb_writer.add_scalar('Accuracy/val', acc, tb_x)\n",
    "    \n",
    "    return loss, acc"
   ]
  },
  {
   "cell_type": "markdown",
   "id": "cb87d654",
   "metadata": {
    "id": "cb87d654"
   },
   "source": [
    "# Model"
   ]
  },
  {
   "cell_type": "code",
   "execution_count": 12,
   "id": "rDQZ994vIelH",
   "metadata": {
    "id": "rDQZ994vIelH"
   },
   "outputs": [],
   "source": [
    "class Model2dConv(torch.nn.Module):\n",
    "    \n",
    "    def __init__(self, in_features, n_classes, conf: omegaconf.dictconfig.DictConfig):\n",
    "        \n",
    "        super().__init__()\n",
    "        \n",
    "        activation = getattr(torch.nn, conf.activation)()\n",
    "        self.module_list = []    \n",
    "\n",
    "        # *********************************************\n",
    "        self.module_list.extend([\n",
    "                torch.nn.Conv2d(in_channels=1, \n",
    "                                out_channels=16, \n",
    "                                kernel_size=(3,3), \n",
    "                                groups=1),\n",
    "                activation,\n",
    "                torch.nn.Conv2d(in_channels=16, \n",
    "                                out_channels=16, \n",
    "                                kernel_size=1),\n",
    "                torch.nn.BatchNorm2d(num_features=16),\n",
    "                activation,\n",
    "                torch.nn.MaxPool2d(kernel_size=3),\n",
    "                torch.nn.Conv2d(in_channels=16, \n",
    "                                out_channels=32, \n",
    "                                kernel_size=(3,3), \n",
    "                                groups=1),\n",
    "                activation,\n",
    "                torch.nn.Conv2d(in_channels=32, \n",
    "                                out_channels=32, \n",
    "                                kernel_size=1),\n",
    "                torch.nn.BatchNorm2d(num_features=32),\n",
    "                activation,\n",
    "                torch.nn.MaxPool2d(kernel_size=3),\n",
    "                torch.nn.Conv2d(in_channels=32, \n",
    "                                out_channels=64, \n",
    "                                kernel_size=(3,3), \n",
    "                                groups=1),\n",
    "                activation,\n",
    "                torch.nn.Conv2d(in_channels=64, \n",
    "                                out_channels=64, \n",
    "                                kernel_size=1),\n",
    "                torch.nn.BatchNorm2d(num_features=64),\n",
    "                activation,\n",
    "                torch.nn.MaxPool2d(kernel_size=4),\n",
    "            # ----\n",
    "                torch.nn.Flatten(),\n",
    "                torch.nn.Linear(128, 64),\n",
    "                torch.nn.BatchNorm1d(num_features=64),\n",
    "                activation,\n",
    "                torch.nn.Dropout(0.2),\n",
    "                torch.nn.Linear(64, n_classes),\n",
    "                torch.nn.LogSoftmax(-1)])\n",
    "        # *********************************************\n",
    "        self.model = torch.nn.Sequential(*self.module_list)\n",
    "        \n",
    "    def forward(self, x):\n",
    "        return self.model(x.unsqueeze(dim=1))"
   ]
  },
  {
   "cell_type": "code",
   "execution_count": 13,
   "id": "uROZzo0fRmmk",
   "metadata": {
    "id": "uROZzo0fRmmk"
   },
   "outputs": [],
   "source": [
    "model = Model2dConv(\n",
    "    in_features=conf.features.n_mels, \n",
    "    n_classes=len(conf.idx_to_keyword),\n",
    "    conf=conf.model\n",
    ")"
   ]
  },
  {
   "cell_type": "code",
   "execution_count": 14,
   "id": "268c161f",
   "metadata": {
    "colab": {
     "base_uri": "https://localhost:8080/"
    },
    "id": "268c161f",
    "outputId": "442d7f26-bd5a-4d7b-da53-023659b61de5"
   },
   "outputs": [
    {
     "name": "stdout",
     "output_type": "stream",
     "text": [
      "[INFO] Register count_convNd() for <class 'torch.nn.modules.conv.Conv2d'>.\n",
      "[INFO] Register zero_ops() for <class 'torch.nn.modules.activation.ReLU'>.\n",
      "[INFO] Register count_normalization() for <class 'torch.nn.modules.batchnorm.BatchNorm2d'>.\n",
      "[INFO] Register zero_ops() for <class 'torch.nn.modules.pooling.MaxPool2d'>.\n",
      "[INFO] Register count_linear() for <class 'torch.nn.modules.linear.Linear'>.\n",
      "[INFO] Register count_normalization() for <class 'torch.nn.modules.batchnorm.BatchNorm1d'>.\n",
      "[INFO] Register zero_ops() for <class 'torch.nn.modules.dropout.Dropout'>.\n",
      "[INFO] Register zero_ops() for <class 'torch.nn.modules.container.Sequential'>.\n"
     ]
    },
    {
     "data": {
      "text/plain": [
       "(6799968.0, 37717.0)"
      ]
     },
     "execution_count": 14,
     "metadata": {},
     "output_type": "execute_result"
    }
   ],
   "source": [
    "thop.profile(\n",
    "    model, inputs=(torch.randn(1, 64, 101),)\n",
    ")"
   ]
  },
  {
   "cell_type": "markdown",
   "id": "9d33dfbb",
   "metadata": {
    "id": "9d33dfbb"
   },
   "source": [
    "#### Experiments"
   ]
  },
  {
   "cell_type": "code",
   "execution_count": 15,
   "id": "9e983ebf",
   "metadata": {
    "id": "9e983ebf"
   },
   "outputs": [],
   "source": [
    "@dataclass\n",
    "class ExpConfig:\n",
    "    sample_rate: int = 16_000\n",
    "    val_fraction: float = 0.1\n",
    "    idx_to_keyword: List[str] = ('sber', 'joy', 'afina', 'salut', 'filler')\n",
    "    device: str = 'cuda:0' if torch.cuda.is_available() else 'cpu'\n",
    "    \n",
    "    model: Model = Model(\n",
    "        kernels=(3, 3), strides=(2, 2), channels=(32, 32), hidden_size=16, activation='ReLU'\n",
    "    )\n",
    "    optim: Optim = Optim(\n",
    "        lr=1e-3, n_epochs=10, batch_size=64\n",
    "    )\n",
    "    features: Features = Features(\n",
    "        n_fft=400, win_length=400, hop_length=160, n_mels=64\n",
    "    )\n",
    "    augs: Augmentations = Augmentations(\n",
    "        freq_mask_param=0, time_mask_param=0\n",
    "    )"
   ]
  },
  {
   "cell_type": "code",
   "execution_count": 16,
   "id": "6618e905",
   "metadata": {
    "id": "6618e905"
   },
   "outputs": [],
   "source": [
    "conf = omegaconf.OmegaConf.structured(ExpConfig)"
   ]
  },
  {
   "cell_type": "code",
   "execution_count": 17,
   "id": "2350ae3f",
   "metadata": {
    "id": "2350ae3f"
   },
   "outputs": [],
   "source": [
    "train_transform = torch.nn.Sequential(\n",
    "    torchaudio.transforms.MelSpectrogram(sample_rate=conf.sample_rate, **conf.features),\n",
    "    torchaudio.transforms.FrequencyMasking(freq_mask_param=conf.augs.freq_mask_param),\n",
    "    torchaudio.transforms.TimeMasking(time_mask_param=conf.augs.time_mask_param),\n",
    "    SpecScaler()\n",
    ")\n",
    "\n",
    "val_transform = torch.nn.Sequential(\n",
    "    torchaudio.transforms.MelSpectrogram(sample_rate=conf.sample_rate, **conf.features),\n",
    "    SpecScaler()\n",
    ")"
   ]
  },
  {
   "cell_type": "code",
   "execution_count": 18,
   "id": "ecf3d0d3",
   "metadata": {
    "id": "ecf3d0d3"
   },
   "outputs": [],
   "source": [
    "val_count = int(len(dataset) * conf.val_fraction)\n",
    "ids = torch.randperm(len(dataset), generator=torch.Generator().manual_seed(SEED))\n",
    "\n",
    "val_ids = ids[:val_count]\n",
    "train_ids = ids[val_count:]\n",
    "\n",
    "train_dataset = SpotterDataset(\n",
    "    manifest_path=Path(\"train/train/manifest.csv\"),\n",
    "    idx_to_keyword=conf.idx_to_keyword,\n",
    "    transform=train_transform,\n",
    "    ids=train_ids\n",
    ")\n",
    "\n",
    "val_dataset = SpotterDataset(\n",
    "    manifest_path=Path(\"train/train/manifest.csv\"),\n",
    "    idx_to_keyword=conf.idx_to_keyword,\n",
    "    transform=val_transform,\n",
    "    ids=val_ids\n",
    ")\n",
    "\n",
    "train_dataloader = torch.utils.data.DataLoader(\n",
    "    dataset=train_dataset,\n",
    "    batch_size=conf.optim.batch_size,\n",
    "    shuffle=False,\n",
    "    collate_fn=collator\n",
    ")\n",
    "\n",
    "val_dataloader = torch.utils.data.DataLoader(\n",
    "    dataset=val_dataset,\n",
    "    batch_size=conf.optim.batch_size,\n",
    "    shuffle=False,\n",
    "    collate_fn=collator\n",
    ")"
   ]
  },
  {
   "cell_type": "code",
   "execution_count": 19,
   "id": "6db04b8f",
   "metadata": {
    "colab": {
     "base_uri": "https://localhost:8080/"
    },
    "id": "6db04b8f",
    "outputId": "748e7260-b255-41f2-db82-ca928dcf0ba7"
   },
   "outputs": [
    {
     "name": "stdout",
     "output_type": "stream",
     "text": [
      "[INFO] Register count_convNd() for <class 'torch.nn.modules.conv.Conv2d'>.\n",
      "[INFO] Register zero_ops() for <class 'torch.nn.modules.activation.ReLU'>.\n",
      "[INFO] Register count_normalization() for <class 'torch.nn.modules.batchnorm.BatchNorm2d'>.\n",
      "[INFO] Register zero_ops() for <class 'torch.nn.modules.pooling.MaxPool2d'>.\n",
      "[INFO] Register count_linear() for <class 'torch.nn.modules.linear.Linear'>.\n",
      "[INFO] Register count_normalization() for <class 'torch.nn.modules.batchnorm.BatchNorm1d'>.\n",
      "[INFO] Register zero_ops() for <class 'torch.nn.modules.dropout.Dropout'>.\n",
      "[INFO] Register zero_ops() for <class 'torch.nn.modules.container.Sequential'>.\n"
     ]
    }
   ],
   "source": [
    "model = (\n",
    "    Model2dConv(\n",
    "        in_features=conf.features.n_mels, \n",
    "        n_classes=len(conf.idx_to_keyword),\n",
    "        conf=conf.model\n",
    "    )\n",
    "    .to(conf.device)\n",
    ")\n",
    "optimizer = torch.optim.Adam(params=model.parameters(), lr=conf.optim.lr)\n",
    "criterion = torch.nn.NLLLoss()\n",
    "\n",
    "macs, params = thop.profile(\n",
    "    model, inputs=(\n",
    "        torch.randn(1, conf.features.n_mels, conf.sample_rate // conf.features.hop_length + 1)\n",
    "        .to(conf.device)\n",
    "        ,\n",
    "    )\n",
    ")"
   ]
  },
  {
   "cell_type": "code",
   "execution_count": 20,
   "id": "Kgc92M6WEoLy",
   "metadata": {
    "id": "Kgc92M6WEoLy"
   },
   "outputs": [],
   "source": [
    "timestamp = datetime.now().strftime(\"%Y%m%d_%H%M%S\")\n",
    "\n",
    "exp_dir = Path(f\"runs/{timestamp}\")\n",
    "ckpt_dir = exp_dir / \"ckpts\"\n",
    "ckpt_dir.mkdir(parents=True)\n",
    "with open(exp_dir / 'conf.yaml', 'w') as f:\n",
    "    omegaconf.OmegaConf.save(config=conf, f=f)\n",
    "\n",
    "tb_writer = SummaryWriter(exp_dir)\n",
    "\n",
    "tb_writer.add_scalar('MACs', macs, 0)\n",
    "tb_writer.add_scalar('Params', params, 0)\n",
    "\n",
    "best_val_acc = -1."
   ]
  },
  {
   "cell_type": "code",
   "execution_count": 21,
   "id": "KE4GSqP4EuvM",
   "metadata": {
    "id": "KE4GSqP4EuvM"
   },
   "outputs": [],
   "source": [
    "# !rm -r '/content/runs/'"
   ]
  },
  {
   "cell_type": "code",
   "execution_count": 22,
   "id": "3808cc59",
   "metadata": {
    "colab": {
     "base_uri": "https://localhost:8080/"
    },
    "id": "3808cc59",
    "outputId": "17b839df-6afa-407b-96f2-bc6730cfdb93"
   },
   "outputs": [
    {
     "name": "stderr",
     "output_type": "stream",
     "text": [
      "2022-12-16 17:02:50,466 - Training process - INFO - Training 1 epoch...\n",
      "2022-12-16 17:08:24,058 - Training process - INFO - Validating 1 epoch...\n",
      "2022-12-16 17:08:45,440 - Training process - INFO - Avg_loss 0.4249067406356335, Val_loss 0.39305383813451733\n",
      "2022-12-16 17:08:45,443 - Training process - INFO - Avg_acc 0.8467187285423279, Val_acc 0.8544327020645142\n",
      "2022-12-16 17:08:45,443 - Training process - INFO - Done training 1 epoch\n",
      "2022-12-16 17:08:45,464 - Training process - INFO - Training 2 epoch...\n",
      "2022-12-16 17:14:14,642 - Training process - INFO - Validating 2 epoch...\n",
      "2022-12-16 17:14:34,770 - Training process - INFO - Avg_loss 0.3783654783666134, Val_loss 0.35709763322708876\n",
      "2022-12-16 17:14:34,771 - Training process - INFO - Avg_acc 0.862500011920929, Val_acc 0.8647047877311707\n",
      "2022-12-16 17:14:34,772 - Training process - INFO - Done training 2 epoch\n",
      "2022-12-16 17:14:34,783 - Training process - INFO - Training 3 epoch...\n",
      "2022-12-16 17:20:20,422 - Training process - INFO - Validating 3 epoch...\n",
      "2022-12-16 17:20:40,878 - Training process - INFO - Avg_loss 0.3512124752998352, Val_loss 0.3318031258307971\n",
      "2022-12-16 17:20:40,886 - Training process - INFO - Avg_acc 0.8706250190734863, Val_acc 0.8718304634094238\n",
      "2022-12-16 17:20:40,887 - Training process - INFO - Done training 3 epoch\n",
      "2022-12-16 17:20:40,897 - Training process - INFO - Training 4 epoch...\n",
      "2022-12-16 17:25:04,740 - Training process - INFO - Validating 4 epoch...\n",
      "2022-12-16 17:25:21,256 - Training process - INFO - Avg_loss 0.33997070357203485, Val_loss 0.35707958377677307\n",
      "2022-12-16 17:25:21,257 - Training process - INFO - Avg_acc 0.8746874928474426, Val_acc 0.8647047877311707\n",
      "2022-12-16 17:25:21,257 - Training process - INFO - Done training 4 epoch\n",
      "2022-12-16 17:25:21,260 - Training process - INFO - Training 5 epoch...\n",
      "2022-12-16 17:29:43,750 - Training process - INFO - Validating 5 epoch...\n",
      "2022-12-16 17:29:59,991 - Training process - INFO - Avg_loss 0.32674121409654616, Val_loss 0.33718544747349777\n",
      "2022-12-16 17:29:59,992 - Training process - INFO - Avg_acc 0.8798437714576721, Val_acc 0.8715528249740601\n",
      "2022-12-16 17:29:59,992 - Training process - INFO - Done training 5 epoch\n",
      "2022-12-16 17:29:59,994 - Training process - INFO - Training 6 epoch...\n",
      "2022-12-16 17:34:45,057 - Training process - INFO - Validating 6 epoch...\n",
      "2022-12-16 17:35:05,074 - Training process - INFO - Avg_loss 0.3156890797615051, Val_loss 0.31571924739335416\n",
      "2022-12-16 17:35:05,075 - Training process - INFO - Avg_acc 0.8832812309265137, Val_acc 0.8800666332244873\n",
      "2022-12-16 17:35:05,075 - Training process - INFO - Done training 6 epoch\n",
      "2022-12-16 17:35:05,086 - Training process - INFO - Training 7 epoch...\n",
      "2022-12-16 17:41:17,161 - Training process - INFO - Validating 7 epoch...\n",
      "2022-12-16 17:41:37,405 - Training process - INFO - Avg_loss 0.3066180059313774, Val_loss 0.32668003836679743\n",
      "2022-12-16 17:41:37,407 - Training process - INFO - Avg_acc 0.8884375095367432, Val_acc 0.8766425848007202\n",
      "2022-12-16 17:41:37,407 - Training process - INFO - Done training 7 epoch\n",
      "2022-12-16 17:41:37,410 - Training process - INFO - Training 8 epoch...\n",
      "2022-12-16 17:47:13,281 - Training process - INFO - Validating 8 epoch...\n",
      "2022-12-16 17:47:33,089 - Training process - INFO - Avg_loss 0.3043299795687199, Val_loss 0.30880046578554005\n",
      "2022-12-16 17:47:33,089 - Training process - INFO - Avg_acc 0.8904687762260437, Val_acc 0.8840458989143372\n",
      "2022-12-16 17:47:33,090 - Training process - INFO - Done training 8 epoch\n",
      "2022-12-16 17:47:33,101 - Training process - INFO - Training 9 epoch...\n",
      "2022-12-16 17:53:11,777 - Training process - INFO - Validating 9 epoch...\n",
      "2022-12-16 17:53:31,907 - Training process - INFO - Avg_loss 0.2954032182693481, Val_loss 0.3192511705692703\n",
      "2022-12-16 17:53:31,908 - Training process - INFO - Avg_acc 0.8917187452316284, Val_acc 0.879603922367096\n",
      "2022-12-16 17:53:31,908 - Training process - INFO - Done training 9 epoch\n",
      "2022-12-16 17:53:31,911 - Training process - INFO - Training 10 epoch...\n",
      "2022-12-16 17:59:06,773 - Training process - INFO - Validating 10 epoch...\n",
      "2022-12-16 17:59:26,311 - Training process - INFO - Avg_loss 0.29572887025773525, Val_loss 0.31050096002556166\n",
      "2022-12-16 17:59:26,312 - Training process - INFO - Avg_acc 0.8909375071525574, Val_acc 0.8806218504905701\n",
      "2022-12-16 17:59:26,312 - Training process - INFO - Done training 10 epoch\n"
     ]
    }
   ],
   "source": [
    "val_acc_ = []\n",
    "tr_acc_ = []\n",
    "\n",
    "for epoch in range(0,10):\n",
    "    \n",
    "    logger.info(f'Training {epoch + 1} epoch...')\n",
    "\n",
    "    avg_loss, avg_acc  = train_one_epoch(\n",
    "        model, criterion, optimizer, train_dataloader,\n",
    "        conf.device, epoch, tb_writer\n",
    "    )\n",
    "    logger.info(f'Validating {epoch + 1} epoch...')\n",
    "    val_loss, val_acc = validation(\n",
    "        model, criterion, val_dataloader,\n",
    "        conf.device, epoch, tb_writer\n",
    "    )\n",
    "    logger.info(f'Avg_loss {avg_loss}, Val_loss {val_loss}')\n",
    "    logger.info(f'Avg_acc {avg_acc}, Val_acc {val_acc}')\n",
    "    val_acc_.append(val_acc)\n",
    "    tr_acc_.append(avg_acc)\n",
    "    logger.info(f'Done training {epoch + 1} epoch')\n",
    "    if val_acc > best_val_acc:\n",
    "        best_val_acc = val_acc\n",
    "        torch.save(\n",
    "            model.state_dict(),\n",
    "            ckpt_dir / f\"model_epoch_{epoch + 1}_val_acc_{val_acc:.3f}.ckpt\")"
   ]
  },
  {
   "cell_type": "code",
   "execution_count": 27,
   "id": "2621976c",
   "metadata": {},
   "outputs": [
    {
     "data": {
      "text/plain": [
       "[tensor(0.8544),\n",
       " tensor(0.8647),\n",
       " tensor(0.8718),\n",
       " tensor(0.8647),\n",
       " tensor(0.8716),\n",
       " tensor(0.8801),\n",
       " tensor(0.8766),\n",
       " tensor(0.8840),\n",
       " tensor(0.8796),\n",
       " tensor(0.8806)]"
      ]
     },
     "execution_count": 27,
     "metadata": {},
     "output_type": "execute_result"
    }
   ],
   "source": [
    "val_acc_"
   ]
  },
  {
   "cell_type": "markdown",
   "id": "1637648f",
   "metadata": {
    "id": "1637648f"
   },
   "source": [
    "# Submit"
   ]
  },
  {
   "cell_type": "code",
   "execution_count": 23,
   "id": "39bf9d28",
   "metadata": {
    "id": "39bf9d28"
   },
   "outputs": [],
   "source": [
    "class TestSpotterDataset(torch.utils.data.Dataset):\n",
    "    def __init__(self, manifest_path: Path, transform):\n",
    "        super().__init__()\n",
    "        \n",
    "        self.transform = transform\n",
    "        manifest = pd.read_csv(manifest_path)\n",
    "        self.wav_files = [\n",
    "            manifest_path.parent / wav_path for wav_path in manifest.path\n",
    "        ]\n",
    "        self.labels = manifest.index.values\n",
    "        \n",
    "    def __len__(self):\n",
    "        return len(self.wav_files)\n",
    "    \n",
    "    def __getitem__(self, idx):\n",
    "        wav, sr = torchaudio.load(self.wav_files[idx])\n",
    "        features = self.transform(wav)\n",
    "        return wav[0], features, self.labels[idx]"
   ]
  },
  {
   "cell_type": "code",
   "execution_count": 24,
   "id": "69c3c7c2",
   "metadata": {
    "id": "69c3c7c2"
   },
   "outputs": [],
   "source": [
    "model.eval()\n",
    "\n",
    "test_dataloader = torch.utils.data.DataLoader(\n",
    "    dataset=TestSpotterDataset(\n",
    "        manifest_path=Path('test/test/manifest.csv'),\n",
    "        transform=val_transform\n",
    "    ),\n",
    "    collate_fn=collator,\n",
    "    batch_size=conf.optim.batch_size,\n",
    "    shuffle=False\n",
    ")"
   ]
  },
  {
   "cell_type": "code",
   "execution_count": 25,
   "id": "4fe1aa31",
   "metadata": {
    "id": "4fe1aa31"
   },
   "outputs": [],
   "source": [
    "index_lst, label_lst = [], []\n",
    "\n",
    "for inputs, idx in test_dataloader:\n",
    "    \n",
    "    with torch.no_grad():\n",
    "        preds = model(inputs.to(conf.device)).argmax(-1).cpu().tolist()\n",
    "    \n",
    "    label_lst.extend([conf.idx_to_keyword[idx] for idx in preds])\n",
    "    index_lst.extend(idx.tolist())"
   ]
  },
  {
   "cell_type": "code",
   "execution_count": 26,
   "id": "c9be8ca3",
   "metadata": {
    "id": "c9be8ca3"
   },
   "outputs": [],
   "source": [
    "(\n",
    "    pd.DataFrame({'index': index_lst, 'label': label_lst})\n",
    "    .to_csv('final.csv', index=False)\n",
    ")"
   ]
  },
  {
   "cell_type": "code",
   "execution_count": null,
   "id": "c4e0765d",
   "metadata": {},
   "outputs": [],
   "source": []
  }
 ],
 "metadata": {
  "accelerator": "GPU",
  "colab": {
   "collapsed_sections": [
    "7418f888"
   ],
   "provenance": []
  },
  "kernelspec": {
   "display_name": "Python 3 (ipykernel)",
   "language": "python",
   "name": "python3"
  },
  "language_info": {
   "codemirror_mode": {
    "name": "ipython",
    "version": 3
   },
   "file_extension": ".py",
   "mimetype": "text/x-python",
   "name": "python",
   "nbconvert_exporter": "python",
   "pygments_lexer": "ipython3",
   "version": "3.9.7"
  }
 },
 "nbformat": 4,
 "nbformat_minor": 5
}
